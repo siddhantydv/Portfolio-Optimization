{
  "cells": [
    {
      "cell_type": "markdown",
      "metadata": {},
      "source": [
        "# Portfolio Optimization using Monte Carlo Simulation and SLSQP"
      ]
    },
    {
      "cell_type": "code",
      "execution_count": null,
      "metadata": {},
      "outputs": [],
      "source": [
        "import numpy as np\n",
        "import pandas as pd\n",
        "import matplotlib.pyplot as plt\n",
        "from scipy.optimize import minimize\n\n",
        "# Simulate returns for 4 assets\n",
        "np.random.seed(42)\n",
        "returns = np.random.randn(1000, 4) * 0.02\n",
        "mean_returns = returns.mean(axis=0)\n",
        "cov_matrix = np.cov(returns.T)\n\n",
        "def portfolio_performance(weights):\n",
        "    port_return = np.dot(weights, mean_returns)\n",
        "    port_vol = np.sqrt(np.dot(weights.T, np.dot(cov_matrix, weights)))\n",
        "    return port_return, port_vol\n\n",
        "def negative_sharpe_ratio(weights):\n",
        "    ret, vol = portfolio_performance(weights)\n",
        "    return -ret / vol\n\n",
        "def constraint_sum(weights):\n",
        "    return np.sum(weights) - 1\n\n",
        "bounds = tuple((0, 1) for _ in range(4))\n",
        "constraints = ({'type': 'eq', 'fun': constraint_sum})\n",
        "initial_guess = [0.25] * 4\n\n",
        "opt_result = minimize(negative_sharpe_ratio, initial_guess, method='SLSQP', bounds=bounds, constraints=constraints)\n",
        "opt_weights = opt_result.x\n",
        "opt_return, opt_vol = portfolio_performance(opt_weights)\n",
        "print('Optimized Weights:', opt_weights)\n",
        "print('Sharpe Ratio:', opt_return / opt_vol)"
      ]
    }
  ],
  "metadata": {},
  "nbformat": 4,
  "nbformat_minor": 5
}